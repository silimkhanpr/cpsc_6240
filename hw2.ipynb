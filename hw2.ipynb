{
 "cells": [
  {
   "cell_type": "code",
   "execution_count": 3,
   "id": "d64d0499",
   "metadata": {},
   "outputs": [
    {
     "name": "stdout",
     "output_type": "stream",
     "text": [
      "Original plaintext: b\"Marley was dead: to begin with. There is no doubt whatever about that. The register of his burial was signed by the clergyman, the clerk, the undertaker, and the chief mourner. Scrooge signed it: and Scrooge's name was good upon 'Change, for anything he chose to put his hand to. Old Marley was as dead as a door-nail. Mind! I don't mean to say that I know, of my own knowledge, what there is particularly dead about a door-nail. I might have been inclined, myself, to regard a coffin-nail as the deadest piece of ironmongery in the trade. But the wisdom of our ancestors is in the simile; and my unhallowed hands shall not disturb it, or the Country's done for. You will therefore permit me to repeat, emphatically, that Marley was as dead as a door-nail\"\n",
      "Encrypted ciphertext in hexadecimals: b'\\xf1g\\xcbS*\\x01\\xc2\\n\\x16n\\xb0\\xfeoVCn0\\xd38\\xb4\\x19\\xda\\x84Jq\\xe1\\xdf\\xd4\\x19\\xdb\\x91e!\\xe3\\xbbz.\\x8b+^\\x90P\\xe84\\x8b\\x1a\\x83:\\x94\\xa8b\\xe0\\xb4ad\\xa9\\xce}\\x0c\\xae\\xbb\\xfbV+\\xf5\\xcc\\xb3\\xfd\\xb8:\\xd8#\\x01\\xd3\\xdfO\\x1bc\\xbc\\xa1A)E\\xc7>\\nK\\x03\\x9f\\x9eh\\x95\\xe2\\xf0^\\x05\\xd5\\x0c\\xa6\\xb2\\x88\\xd2_\\r\\x1fHQ\\xa3\\xc9\\xdc\\xdbU\\x14\\xc7nk\\x17#\\xd7\\xa6\\xef\\x08\\xad\\xa1:@4\\xbc\\x15\\xd1\\x9f\\xec\\xb2\\x1f\\xe6\\xd2\\xfa+\\xd0\\xe9F#Lc\\xe7\\xe13\\xfc\\xf8(\\xb3d\\x87~\\xcfA\\xa2i\\xd4\\xe7\\xde\\xac\\xec\\xc4\\x1ct\\xd3\\x83\\xc6D\\x0f\\'\\x12URP\\xb4\\xfb0\\x14\\xb1(E\\x89\\x98\\xe0SHb\\r\\xbf;Ee\\x98ZX[\\xd7\\xd6\\x97\\xd5\\x90A\\xcb\\\\\\x18r[\\xce\\xb9\\x1f\\x07v\\xa1,\\xa2\\xd4H=\\x97te3\\xb1 \\xadgim\\\\\\x0c\\x08\\xdd\\xf4\\x0c\\xc4\\xd8i\\xfb\\xe4Nh?P0H\\xc8\\xb7$I\\x1d1\\xdfe\\x8e\\x08EwN\\x84\\x17\\xa3\\xcd\\xdcH\\x1b\\x8eX\\xe0\\xe1\\x9f\\x104\\xf0\\xc9v\\x0fY\\x1e\\xcf\\x10m_Z\\xf0\\xc0\\xf0\\xe1R\\x8bU\\xa2\\x0f\\x82\\xe4G\\xa6e\\xd2\\x12\\xf3DrU7{\\xf9\\xb3\\xebh\\x19\\x130(\\xb57\\xdd\\x8a\\xfb\\xec\\r*o\\x87D\\x15`\\xae\\xf1\\xa8\\xff\\xdf\\x08[pr\\x898\\xdch\\xf39vHQ\\n\\xf7\\x1dB\\xed{\\xa2\\xef&\"\\xb2M\\x97\\xd6\\xccX\\xb2C\\xd1a\\x89\\xdb\\xc0\"h\\xff\\x81\\xf2OU\\x8a\\xbf\\xeam\\xbe\\xa7H\\x08\\xe3\\x01\\xc0F\\xa4\\xd7\\xa9\\x85\\x8d=\\xaa\\n`l\\x92f\\x9c}%\\xf6\\x81\\xb6\\x80d\\x82,\\xc4=\\xa3\\x049\\xc4\\xc1\\x8bR h\\xacO\\xf2K>\\xe0`\\x12)\\xf2e\\xca\\xbe\\xae\\x8dx\\x93\\xa7\\xb7S\\x1ay\\xd0\\x0c\\x1e-\\xe1\\x89zr,\\xb9\\x11\\x98\\x8fn\\xea;\\xc6<\\x80\\xbf\\xdbd\\x89\\xf6\\xe5q\\xee\\x9e\\xc6.\\xdb\\xe4\\xca\\x86\\x8cj\\xd6%Mu\\x8ft\\xc9\\x86\\xd8\\xf5\\x10\\xa0\\xa6\\xe0\\xe2v\\x14\\xdd\\xa1\\xafqk\\xf4\\x1d\\xf9\\x1a\\xael\\x07\\x91\\xe3\\x83\\xd5\\x1f\\xec\\xca8\\x8b\\x9cj\\xff\\x0cN\\xbe>\\xc2\\x10\\xb7V\\x05\\x15\\xdf\\xb3\"\\x04)&7$\\x00\\xb2\\xb4\\x80|\\x7fz\\xe5\\x88\\x01\\xa6\\xc3\\xbd\\x94\\xc9[\\xc8:\\x9f\\xf0\\xc7p\\x9f%oQ\\xba\\x85>\\xa1\\x8c\\x9e =\\x02\\x9f+\\xad9\\x9c6\\xa5\\x86f\\x01\\xd6\\xc0s\\xa5\\x05>\\xd2\\xab\\x8e\\xe2\\x06>N\\x88)\\xec\\xa0\\t]\\x05\\x9b=OS:\\x8b\\x18f\\xeb\\xaf\\x8e~\\xb4wG\\xcfv\\x83\\xa5\\x12Ix\\x89q\\x0f\\xa0\\x1e\\x91(\\xbd\\xa0\\xd4\\x12\\'\\x7fj\\xf4\\x1a\\n%p\\xd2\\xadFZ<q\\xde\\xf1S\\x08\\x1d\\x04\\x9c[*g\\x8c$\\x03\\x9c\\xc2\\xa1Ku\\x80\\xb0\\x06\\xad\\x19a\\xbd\\x07\\x88\\xdb\\xfe\\x9c\\x96?\\x10\\xfbVP:\\x1f\\x10\\xf1\\xda1\\xce\\x88\\xad\\xd5\\xcf\\x182\\xe3S\\xea\\x81\\x16\\xda^\\x8codq\\xf7\\x9d\\x92\\xdb\\x17\\xcc\\xd3jd\\xdb\\xf7-\\xf6\\x0erB\\x0f\\xd7\\xe1(\\xb2(\\x8f=\\xbc\\xba\\x10\\x8a\\x93\\xb8K\\'\\xc20\\xee\\xd9F|\\x80%\\xc0\\x83\\x88\\xacd\\x93~\\xb4\\xa1\\x82'\n",
      "Decrypted plaintext: b\"Marley was dead: to begin with. There is no doubt whatever about that. The register of his burial was signed by the clergyman, the clerk, the undertaker, and the chief mourner. Scrooge signed it: and Scrooge's name was good upon 'Change, for anything he chose to put his hand to. Old Marley was as dead as a door-nail. Mind! I don't mean to say that I know, of my own knowledge, what there is particularly dead about a door-nail. I might have been inclined, myself, to regard a coffin-nail as the deadest piece of ironmongery in the trade. But the wisdom of our ancestors is in the simile; and my unhallowed hands shall not disturb it, or the Country's done for. You will therefore permit me to repeat, emphatically, that Marley was as dead as a door-nail\"\n"
     ]
    }
   ],
   "source": [
    "from Crypto.Cipher import DES\n",
    "from Crypto.Util.Padding import pad, unpad\n",
    "\n",
    "key = b'abcdefgh'  # 8-byte key\n",
    "plaintext = b\"Marley was dead: to begin with. There is no doubt whatever about that. The register of his burial was signed by the clergyman, the clerk, the undertaker, and the chief mourner. Scrooge signed it: and Scrooge's name was good upon 'Change, for anything he chose to put his hand to. Old Marley was as dead as a door-nail. Mind! I don't mean to say that I know, of my own knowledge, what there is particularly dead about a door-nail. I might have been inclined, myself, to regard a coffin-nail as the deadest piece of ironmongery in the trade. But the wisdom of our ancestors is in the simile; and my unhallowed hands shall not disturb it, or the Country's done for. You will therefore permit me to repeat, emphatically, that Marley was as dead as a door-nail\"\n",
    "\n",
    "# Initialize the DES cipher in ECB mode with PKCS#5 padding\n",
    "cipher = DES.new(key, DES.MODE_ECB)\n",
    "\n",
    "# Encrypt the plaintext\n",
    "padded_plaintext = pad(plaintext, DES.block_size, style='pkcs7')\n",
    "ciphertext = cipher.encrypt(padded_plaintext)\n",
    "\n",
    "# Decrypt the ciphertext\n",
    "decrypted_text = cipher.decrypt(ciphertext)\n",
    "unpadded_plaintext = unpad(decrypted_text, DES.block_size, style='pkcs7')\n",
    "\n",
    "print(\"Original plaintext:\", plaintext)\n",
    "print(\"Encrypted ciphertext in hexadecimals:\", ciphertext)\n",
    "print(\"Decrypted plaintext:\", unpadded_plaintext)\n"
   ]
  },
  {
   "cell_type": "code",
   "execution_count": 1,
   "id": "b23fe8f0",
   "metadata": {},
   "outputs": [
    {
     "name": "stdout",
     "output_type": "stream",
     "text": [
      "Ciphertext: b'6cc2bf06512a6300365c33500b101ece5993649bd501eeabe47a3a9f750c8ddd54f171caecc95af67fb42c5697f9141074235493ce7ad68cb204b39fa9fac9ed8dc1a906a39c2d531cec911b2d135b561df1183a3dad12e9242d9231e2901bade99f66d7b03a683614708465e9881bac928113f2cc11f60c831d232c1500b04a1b7fb8284a92943a49b214aab102565372897d7d46258691c3da7bd7fbf99838ed112b9f0ab8ef7c6babb34f36dc2226025d70e72b88887f86fe882608d43dd8deb44ef429e98d5389c6edb815caec34c631fe841c5e6e901608a18784b293636cba0c4725c7cf1d38c1ee198dfe71128c5db8867237e3365b1462773596375528009fa2cdb54009688a84c51454be41a8c5feca575b2bc6b299af80e0af2ea543f77341c4f404e070eeef275549a649c8883aa4fd2280f0ff702f397dc328090b83d2c10f1b87d17a15afbafffdf8bfcd96711beb5833ec3c1d0bc30b615c1c77102ed91e6ffaf22ac0e9b8b145a56e9f48c04542a263c1b50125c71dec5d061ca896fb58ab70d00566e532aa38c209d047dcd19ccfd61ec9231de5e655317d31bfcdb450b05e9d62396f0443868e2942584e51cfb7e99739572b7ff55e1d4550dfbdbef60fbb5fba3394308e6443ea40192cb4c39965e8fb40b15a58eaf3e6fd567c1a24e6bbd3a78277ff7ee2e930e6d069178f36dbd610f2b70f204f0c6af7d8b670316d38489d15b303a630344b400c7e52b514bf04fd623ee28447dca74e15d51a08043844a08e53d50f13de1f1c81bcc0ed514c8a0f85166353cd54f48627bf97cd0163dc77d872b5375359d55572554ccdd9e29aa2dc4fade101ac47d751e97ccc4ca85fb41db3e0590c8c3e234b899fa33bb876abb4275ef2cc88eb085c72a81a87b82ec514f22b84a19e5a487773eaf24e559a98ac0a955d8cde3538c07dc9b1336ac9481bdd8d689113245960a318e8005fc3075dcb17f273b919abad4b272a628c91170d627233e1b494f24fd451891e02c237552baeae13fcb706cfc9fc617c3ff00451ad3574a4fcc435da1f9679ddb8626bc8a1e7eb694c14'\n",
      "Ciphertext: b'l\\xc2\\xbf\\x06Q*c\\x006\\\\3P\\x0b\\x10\\x1e\\xceY\\x93d\\x9b\\xd5\\x01\\xee\\xab\\xe4z:\\x9fu\\x0c\\x8d\\xddT\\xf1q\\xca\\xec\\xc9Z\\xf6\\x7f\\xb4,V\\x97\\xf9\\x14\\x10t#T\\x93\\xcez\\xd6\\x8c\\xb2\\x04\\xb3\\x9f\\xa9\\xfa\\xc9\\xed\\x8d\\xc1\\xa9\\x06\\xa3\\x9c-S\\x1c\\xec\\x91\\x1b-\\x13[V\\x1d\\xf1\\x18:=\\xad\\x12\\xe9$-\\x921\\xe2\\x90\\x1b\\xad\\xe9\\x9ff\\xd7\\xb0:h6\\x14p\\x84e\\xe9\\x88\\x1b\\xac\\x92\\x81\\x13\\xf2\\xcc\\x11\\xf6\\x0c\\x83\\x1d#,\\x15\\x00\\xb0J\\x1b\\x7f\\xb8(J\\x92\\x94:I\\xb2\\x14\\xaa\\xb1\\x02VSr\\x89}}F%\\x86\\x91\\xc3\\xda{\\xd7\\xfb\\xf9\\x988\\xed\\x11+\\x9f\\n\\xb8\\xef|k\\xab\\xb3O6\\xdc\"&\\x02]p\\xe7+\\x88\\x88\\x7f\\x86\\xfe\\x88&\\x08\\xd4=\\xd8\\xde\\xb4N\\xf4)\\xe9\\x8dS\\x89\\xc6\\xed\\xb8\\x15\\xca\\xec4\\xc61\\xfe\\x84\\x1c^n\\x90\\x16\\x08\\xa1\\x87\\x84\\xb2\\x93cl\\xba\\x0cG%\\xc7\\xcf\\x1d8\\xc1\\xee\\x19\\x8d\\xfeq\\x12\\x8c]\\xb8\\x86r7\\xe36[\\x14bw5\\x967U(\\x00\\x9f\\xa2\\xcd\\xb5@\\th\\x8a\\x84\\xc5\\x14T\\xbeA\\xa8\\xc5\\xfe\\xcaW[+\\xc6\\xb2\\x99\\xaf\\x80\\xe0\\xaf.\\xa5C\\xf7sA\\xc4\\xf4\\x04\\xe0p\\xee\\xef\\'UI\\xa6I\\xc8\\x88:\\xa4\\xfd\"\\x80\\xf0\\xffp/9}\\xc3(\\t\\x0b\\x83\\xd2\\xc1\\x0f\\x1b\\x87\\xd1z\\x15\\xaf\\xba\\xff\\xfd\\xf8\\xbf\\xcd\\x96q\\x1b\\xebX3\\xec<\\x1d\\x0b\\xc3\\x0ba\\\\\\x1cw\\x10.\\xd9\\x1eo\\xfa\\xf2*\\xc0\\xe9\\xb8\\xb1E\\xa5n\\x9fH\\xc0EB\\xa2c\\xc1\\xb5\\x01%\\xc7\\x1d\\xec]\\x06\\x1c\\xa8\\x96\\xfbX\\xabp\\xd0\\x05f\\xe52\\xaa8\\xc2\\t\\xd0G\\xdc\\xd1\\x9c\\xcf\\xd6\\x1e\\xc9#\\x1d\\xe5\\xe6U1}1\\xbf\\xcd\\xb4P\\xb0^\\x9db9o\\x04C\\x86\\x8e)BXNQ\\xcf\\xb7\\xe9\\x979W+\\x7f\\xf5^\\x1dEP\\xdf\\xbd\\xbe\\xf6\\x0f\\xbb_\\xba3\\x940\\x8edC\\xea@\\x19,\\xb4\\xc3\\x99e\\xe8\\xfb@\\xb1ZX\\xea\\xf3\\xe6\\xfdV|\\x1a$\\xe6\\xbb\\xd3\\xa7\\x82w\\xff~\\xe2\\xe90\\xe6\\xd0i\\x17\\x8f6\\xdb\\xd6\\x10\\xf2\\xb7\\x0f O\\x0cj\\xf7\\xd8\\xb6p1m8H\\x9d\\x15\\xb3\\x03\\xa604K@\\x0c~R\\xb5\\x14\\xbf\\x04\\xfdb>\\xe2\\x84G\\xdc\\xa7N\\x15\\xd5\\x1a\\x08\\x048D\\xa0\\x8eS\\xd5\\x0f\\x13\\xde\\x1f\\x1c\\x81\\xbc\\xc0\\xedQL\\x8a\\x0f\\x85\\x16cS\\xcdT\\xf4\\x86\\'\\xbf\\x97\\xcd\\x01c\\xdcw\\xd8r\\xb57SY\\xd5UrUL\\xcd\\xd9\\xe2\\x9a\\xa2\\xdcO\\xad\\xe1\\x01\\xacG\\xd7Q\\xe9|\\xccL\\xa8_\\xb4\\x1d\\xb3\\xe0Y\\x0c\\x8c>#K\\x89\\x9f\\xa3;\\xb8v\\xab\\xb4\\'^\\xf2\\xcc\\x88\\xeb\\x08\\\\r\\xa8\\x1a\\x87\\xb8.\\xc5\\x14\\xf2+\\x84\\xa1\\x9eZHws\\xea\\xf2NU\\x9a\\x98\\xac\\n\\x95]\\x8c\\xde58\\xc0}\\xc9\\xb13j\\xc9H\\x1b\\xdd\\x8dh\\x91\\x13$Y`\\xa3\\x18\\xe8\\x00_\\xc3\\x07]\\xcb\\x17\\xf2s\\xb9\\x19\\xab\\xadK\\'*b\\x8c\\x91\\x17\\rbr3\\xe1\\xb4\\x94\\xf2O\\xd4Q\\x89\\x1e\\x02\\xc27U+\\xae\\xae\\x13\\xfc\\xb7\\x06\\xcf\\xc9\\xfca|?\\xf0\\x04Q\\xad5t\\xa4\\xfc\\xc45\\xda\\x1f\\x96y\\xdd\\xb8bk\\xc8\\xa1\\xe7\\xebiL\\x14'\n",
      "Decrypted text: b\"Marley was dead: to begin with. There is no doubt whatever about that. The register of his burial was signed by the clergyman, the clerk, the undertaker, and the chief mourner. Scrooge signed it: and Scrooge's name was good upon 'Change, for anything he chose to put his hand to. Old Marley was as dead as a door-nail. Mind! I don't mean to say that I know, of my own knowledge, what there is particularly dead about a door-nail. I might have been inclined, myself, to regard a coffin-nail as the deadest piece of ironmongery in the trade. But the wisdom of our ancestors is in the simile; and my unhallowed hands shall not disturb it, or the Country's done for. You will therefore permit me to repeat, emphatically, that Marley was as dead as a door-nail.\"\n"
     ]
    }
   ],
   "source": [
    "from Crypto.Cipher import AES\n",
    "from Crypto.Util.Padding import pad, unpad\n",
    "import binascii\n",
    "\n",
    "# Define encryption function\n",
    "def encrypt_AES_CBC(plaintext, key):\n",
    "    iv = b'\\x00' * 16  # Initialize IV to all zeroes\n",
    "    cipher = AES.new(key, AES.MODE_CBC, iv)\n",
    "    ciphertext = cipher.encrypt(pad(plaintext, AES.block_size, style='pkcs7'))\n",
    "    return ciphertext\n",
    "\n",
    "# Define decryption function\n",
    "def decrypt_AES_CBC(ciphertext, key):\n",
    "    iv = b'\\x00' * 16  # Initialize IV to all zeroes\n",
    "    cipher = AES.new(key, AES.MODE_CBC, iv)\n",
    "    plaintext = unpad(cipher.decrypt(ciphertext), AES.block_size, style='pkcs7')\n",
    "    return plaintext\n",
    "\n",
    "# Define main function to run encryption and decryption\n",
    "def main():\n",
    "    # Define plaintext and key\n",
    "    plaintext = b\"Marley was dead: to begin with. There is no doubt whatever about that. The register of his burial was signed by the clergyman, the clerk, the undertaker, and the chief mourner. Scrooge signed it: and Scrooge's name was good upon 'Change, for anything he chose to put his hand to. Old Marley was as dead as a door-nail. Mind! I don't mean to say that I know, of my own knowledge, what there is particularly dead about a door-nail. I might have been inclined, myself, to regard a coffin-nail as the deadest piece of ironmongery in the trade. But the wisdom of our ancestors is in the simile; and my unhallowed hands shall not disturb it, or the Country's done for. You will therefore permit me to repeat, emphatically, that Marley was as dead as a door-nail.\"\n",
    "    key = b'\\x00' * 32  # Use a 256-bit key of all zeroes for demonstration purposes only\n",
    "\n",
    "    # Encrypt plaintext\n",
    "    ciphertext = encrypt_AES_CBC(plaintext, key)\n",
    "    print(\"Ciphertext:\", binascii.hexlify(ciphertext))\n",
    "    print(\"Ciphertext:\", ciphertext)\n",
    "   \n",
    "\n",
    "    # Decrypt ciphertext\n",
    "    decrypted_text = decrypt_AES_CBC(ciphertext, key)\n",
    "    print(\"Decrypted text:\", decrypted_text)\n",
    "\n",
    "if __name__ == \"__main__\":\n",
    "    main()\n"
   ]
  },
  {
   "cell_type": "code",
   "execution_count": 1,
   "id": "2983a0d9",
   "metadata": {},
   "outputs": [
    {
     "name": "stdout",
     "output_type": "stream",
     "text": [
      "It was the best of times, it was the worst of times, it was the age of wisdom, it was the age of foolishness, it was the epoch of belief, it was the epoch of incredulity, it was the season of Light, it was the season of Darkness, it was the spring of hope, it was the winter of despair, we had everything before us, we had nothing before us, we were all going direct to Heaven, we were all going direct the other way--in short, the period was so far like the present period that some of its noisiest authorities insisted on its being received, for good or for evil, in the superlative degree of comparison only.\n"
     ]
    }
   ],
   "source": [
    "import re\n",
    "import string\n",
    "\n",
    "# define the expected frequency distribution of characters in English text\n",
    "expected_frequencies = {\n",
    "    'a': 0.0817, 'b': 0.0150, 'c': 0.0278, 'd': 0.0425,\n",
    "    'e': 0.1270, 'f': 0.0223, 'g': 0.0202, 'h': 0.0609,\n",
    "    'i': 0.0697, 'j': 0.0015, 'k': 0.0077, 'l': 0.0403,\n",
    "    'm': 0.0241, 'n': 0.0675, 'o': 0.0751, 'p': 0.0193,\n",
    "    'q': 0.0010, 'r': 0.0599, 's': 0.0633, 't': 0.0906,\n",
    "    'u': 0.0276, 'v': 0.0098, 'w': 0.0236, 'x': 0.0015,\n",
    "    'y': 0.0197, 'z': 0.0007\n",
    "}\n",
    "\n",
    "# define a function to perform frequency analysis of characters in a given text\n",
    "def frequency_analysis(text):\n",
    "    # count the frequency of each character in the text\n",
    "    freq = {}\n",
    "    for c in text:\n",
    "        if c.isalpha():\n",
    "            freq[c.lower()] = freq.get(c.lower(), 0) + 1\n",
    "    # normalize the frequency distribution to sum up to 1\n",
    "    total = sum(freq.values())\n",
    "    for c in freq:\n",
    "        freq[c] /= total\n",
    "    return freq\n",
    "\n",
    "# read the ciphertext from the file\n",
    "\n",
    "ciphertext =  'Bz ykp zvn dnpz js zbenp, bz ykp zvn yjcpz js zbenp, bz ykp zvn kln js ybpfje, bz ykp zvn kln js sjjhbpvxnpp, bz ykp zvn nmjgv js dnhbns, bz ykp zvn nmjgv js bxgcnfrhbzu, bz ykp zvn pnkpjx js Hblvz, bz ykp zvn pnkpjx js Fkcaxnpp, bz ykp zvn pmcbxl js vjmn, bz ykp zvn ybxznc js fnpmkbc, yn vkf ntncuzvbxl dnsjcn rp, yn vkf xjzvbxl dnsjcn rp, yn yncn khh ljbxl fbcngz zj Vnktnx, yn yncn khh ljbxl fbcngz zvn jzvnc yku--bx pvjcz, zvn mncbjf ykp pj skc hban zvn mcnpnxz mncbjf zvkz pjen js bzp xjbpbnpz krzvjcbzbnp bxpbpznf jx bzp dnbxl cngnbtnf, sjc ljjf jc sjc ntbh, bx zvn prmnchkzbtn fnlcnn js gjemkcbpjx jxhu.'\n",
    "\n",
    "# perform frequency analysis of the ciphertext\n",
    "ciphertext_freq = frequency_analysis(ciphertext)\n",
    "print(ciphertext_freq)\n",
    "\n",
    "# sort the characters in the ciphertext by frequency\n",
    "ciphertext_chars = sorted(ciphertext_freq.keys(), key=lambda c: -ciphertext_freq[c])\n",
    "print(ciphertext_chars)\n",
    "\n",
    "# compute the mapping between ciphertext characters and plaintext characters\n",
    "mapping = {}\n",
    "for c1, c2 in zip(ciphertext_chars, expected_frequencies.keys()):\n",
    "    mapping[c1] = c2\n",
    "\n",
    "# apply the mapping to the ciphertext to obtain the plaintext\n",
    "plaintext = ''.join(mapping.get(c, c) for c in ciphertext)\n",
    "\n",
    "# print the plaintext\n",
    "print(plaintext)"
   ]
  },
  {
   "cell_type": "code",
   "execution_count": null,
   "id": "537b99b4",
   "metadata": {},
   "outputs": [],
   "source": []
  }
 ],
 "metadata": {
  "kernelspec": {
   "display_name": "Python 3 (ipykernel)",
   "language": "python",
   "name": "python3"
  },
  "language_info": {
   "codemirror_mode": {
    "name": "ipython",
    "version": 3
   },
   "file_extension": ".py",
   "mimetype": "text/x-python",
   "name": "python",
   "nbconvert_exporter": "python",
   "pygments_lexer": "ipython3",
   "version": "3.9.13"
  }
 },
 "nbformat": 4,
 "nbformat_minor": 5
}
